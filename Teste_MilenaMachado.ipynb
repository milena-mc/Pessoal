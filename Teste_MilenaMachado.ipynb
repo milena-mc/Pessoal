{
 "cells": [
  {
   "cell_type": "code",
   "execution_count": 1,
   "metadata": {},
   "outputs": [],
   "source": [
    "import numpy as np\n",
    "factorial = np.math.factorial"
   ]
  },
  {
   "cell_type": "markdown",
   "metadata": {},
   "source": [
    "# Exercício 1"
   ]
  },
  {
   "cell_type": "markdown",
   "metadata": {},
   "source": [
    "Para este exercício, vamos definir uma função que cálcule o resto entre dois números. Depois, usaremos esta função para criar outras funções que descobrem se um número é par, múltiplo de 49 e múltiplo de 37, já que, por definição, um número é par se é divísivel por 2, ou seja, o resto é zero quando dividido por 2. A operação para resto é % no Python. Este racicíonio é análogo para múltiplos de 49 e 37.\n",
    "\n",
    "Depois, é só fazer uma cadeia de ifs no intervalo sugerido para achar o total de números."
   ]
  },
  {
   "cell_type": "code",
   "execution_count": 2,
   "metadata": {},
   "outputs": [],
   "source": [
    "\n",
    "def resto_entre_n_e_m_eh_zero(n,m):\n",
    "    if n % m == 0:\n",
    "        return True\n",
    "    else:\n",
    "        return False\n",
    "    \n",
    "def eh_par(n):\n",
    "    return resto_entre_n_e_m_eh_zero(n,2)\n",
    "\n",
    "def eh_multiplo_de_49(n):\n",
    "    return resto_entre_n_e_m_eh_zero(n,49)\n",
    "\n",
    "def eh_multiplo_de_37(n):\n",
    "    return resto_entre_n_e_m_eh_zero(n,37)"
   ]
  },
  {
   "cell_type": "code",
   "execution_count": 3,
   "metadata": {},
   "outputs": [
    {
     "name": "stdout",
     "output_type": "stream",
     "text": [
      "Temos 51020 com essas condições\n"
     ]
    }
   ],
   "source": [
    "total_de_numeros = 0\n",
    "for n in range(1,5000000):\n",
    "    if eh_multiplo_de_49(n) == True:\n",
    "        if eh_multiplo_de_49(n) == True:\n",
    "            if eh_par(n) == True:\n",
    "                total_de_numeros += 1\n",
    "                \n",
    "print(\"Temos\", total_de_numeros, \"com essas condições\")"
   ]
  },
  {
   "cell_type": "markdown",
   "metadata": {},
   "source": [
    "# Exercício 2"
   ]
  },
  {
   "cell_type": "markdown",
   "metadata": {},
   "source": [
    "Definimos uma função que retorna um vetor seguindo as instruções do exercício. Para isto, definimos o vetor X e vamos ingressando termos. Usamos a nossa função eh_par para conferir as condições e fazer o indicado."
   ]
  },
  {
   "cell_type": "code",
   "execution_count": 4,
   "metadata": {},
   "outputs": [],
   "source": [
    "def vetorX():\n",
    "    \"\"\" Este programa foi feito considerando a primeira posição do vetor a posição 1. \n",
    "        Seria possível fazer considerando a primeira posição do vetor a posição 0, como seria mais natural no python.\n",
    "        Para isto só precisaríamos mudar os índices do range para range(0,10)\n",
    "    \"\"\"\n",
    "    \n",
    "    X = []\n",
    "    for i in range(1,11):\n",
    "        if eh_par(i) == True:\n",
    "            X.append(3**i + 7*factorial(i))\n",
    "        if eh_par(i) == False:\n",
    "            X.append(2**i + 4*np.log(i))\n",
    "    return X"
   ]
  },
  {
   "cell_type": "code",
   "execution_count": 5,
   "metadata": {},
   "outputs": [
    {
     "name": "stdout",
     "output_type": "stream",
     "text": [
      "1. O máximo elemento está na posição 9, ou seja, o elemento 10 do vetor. Ele tem valor de 25460649\n",
      "2. O valor médio dos elementos do vetor é 2575620.04\n"
     ]
    }
   ],
   "source": [
    "#Criamos X, calculamos máximo elemento de X, a posição dele, a média dos elementos e imprimimos.\n",
    "X = vetorX()\n",
    "maximo_elemento = max(X)\n",
    "pos_maximo_elemento = X.index(maximo_elemento)\n",
    "media_dos_elementos = np.round(np.average(X),2)\n",
    "\n",
    "\n",
    "print(\"1. O máximo elemento está na posição {0}, ou seja, o elemento {1} do vetor. Ele tem valor de {2}\".format(pos_maximo_elemento, pos_maximo_elemento+1, maximo_elemento))  \n",
    "print(\"2. O valor médio dos elementos do vetor é {0}\".format(media_dos_elementos) ) #Calculamos média usando numpy"
   ]
  },
  {
   "cell_type": "markdown",
   "metadata": {},
   "source": [
    "# Exercício 3"
   ]
  },
  {
   "cell_type": "markdown",
   "metadata": {},
   "source": [
    "Lemos as notas dos alunos a partir de um vetor de entrada e relacionamos com os nomes do alunos. Depois, achamos o aluno com melhor nota e imprimimos seu nome com sua nota."
   ]
  },
  {
   "cell_type": "code",
   "execution_count": 6,
   "metadata": {},
   "outputs": [],
   "source": [
    "notas_dos_alunos = [2,4,8,1,3]\n",
    "\n",
    "def aluno_e_melhor_nota_usando_dic(notas_dos_alunos):\n",
    "    \"\"\" Criamos um dicionario com os nomes dos alunos e as notas, achamos o aluno de melhor nota,\n",
    "        e, imprimimos o aluno com a melhor nota e sua nota.\n",
    "    \"\"\"\n",
    "    \n",
    "    nome_dos_alunos = [\"Aluno 1\", \"Aluno 2\", \"Aluno 3\", \"Aluno 4\", \"Aluno 5\"]\n",
    "    dicionario_dos_alunos = dict(zip(nome_dos_alunos, notas_dos_alunos))\n",
    "    \n",
    "    \n",
    "    aluno_melhor_nota = max(dicionario_dos_alunos, key = dicionario_dos_alunos.get)\n",
    "    melhor_nota = dicionario_dos_alunos[aluno_melhor_nota]\n",
    "    \n",
    "    print(aluno_melhor_nota, \"Nota:\", melhor_nota)"
   ]
  },
  {
   "cell_type": "code",
   "execution_count": 7,
   "metadata": {},
   "outputs": [
    {
     "name": "stdout",
     "output_type": "stream",
     "text": [
      "Aluno 3 Nota: 8\n"
     ]
    }
   ],
   "source": [
    "aluno_e_melhor_nota_usando_dic(notas_dos_alunos)"
   ]
  }
 ],
 "metadata": {
  "kernelspec": {
   "display_name": "Python 3",
   "language": "python",
   "name": "python3"
  },
  "language_info": {
   "codemirror_mode": {
    "name": "ipython",
    "version": 3
   },
   "file_extension": ".py",
   "mimetype": "text/x-python",
   "name": "python",
   "nbconvert_exporter": "python",
   "pygments_lexer": "ipython3",
   "version": "3.7.7"
  },
  "latex_envs": {
   "LaTeX_envs_menu_present": true,
   "autoclose": false,
   "autocomplete": true,
   "bibliofile": "biblio.bib",
   "cite_by": "apalike",
   "current_citInitial": 1,
   "eqLabelWithNumbers": true,
   "eqNumInitial": 1,
   "hotkeys": {
    "equation": "Ctrl-E",
    "itemize": "Ctrl-I"
   },
   "labels_anchors": false,
   "latex_user_defs": false,
   "report_style_numbering": false,
   "user_envs_cfg": false
  },
  "varInspector": {
   "cols": {
    "lenName": 16,
    "lenType": 16,
    "lenVar": 40
   },
   "kernels_config": {
    "python": {
     "delete_cmd_postfix": "",
     "delete_cmd_prefix": "del ",
     "library": "var_list.py",
     "varRefreshCmd": "print(var_dic_list())"
    },
    "r": {
     "delete_cmd_postfix": ") ",
     "delete_cmd_prefix": "rm(",
     "library": "var_list.r",
     "varRefreshCmd": "cat(var_dic_list()) "
    }
   },
   "types_to_exclude": [
    "module",
    "function",
    "builtin_function_or_method",
    "instance",
    "_Feature"
   ],
   "window_display": false
  }
 },
 "nbformat": 4,
 "nbformat_minor": 4
}
